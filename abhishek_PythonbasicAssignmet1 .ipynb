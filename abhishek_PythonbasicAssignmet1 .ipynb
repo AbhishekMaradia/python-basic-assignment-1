{
 "cells": [
  {
   "cell_type": "code",
   "execution_count": null,
   "metadata": {},
   "outputs": [],
   "source": [
    "PYTHON BASIC ASSIGNMENT 1 "
   ]
  },
  {
   "cell_type": "markdown",
   "metadata": {},
   "source": [
    "Que : 1\n",
    "ans : 1 \n",
    "operator = *,-,/,+\n",
    "values   = \"hello\",-87.8,6\n"
   ]
  },
  {
   "cell_type": "code",
   "execution_count": null,
   "metadata": {},
   "outputs": [],
   "source": [
    "Que : 2\n",
    "ans : 2\n",
    "variable is used to store value or information so, spam is variable\n",
    "string is an information which store in variable so, \"spam\" is string"
   ]
  },
  {
   "cell_type": "code",
   "execution_count": null,
   "metadata": {},
   "outputs": [],
   "source": [
    "Que : 3\n",
    "ans : 3\n",
    "data forms numeric, sequence, boolean"
   ]
  },
  {
   "cell_type": "code",
   "execution_count": null,
   "metadata": {},
   "outputs": [],
   "source": [
    "ans : 4\n",
    " combination of one or more operands, operators and pairs of parentheses is called expressions\n",
    "the functions of Expressions are used in programming languages, database systems, and spreadsheet applications. For example, in database systems, you use expressions to specify which information you want to see. These types of expressions are called queries."
   ]
  },
  {
   "cell_type": "code",
   "execution_count": null,
   "metadata": {},
   "outputs": [],
   "source": [
    "ans : 5\n",
    "    The main difference between a expression and declaration is ,the spam is the declaration which declare the variable and store the value which runs as soon as it is defined its called at run time expressions ."
   ]
  },
  {
   "cell_type": "code",
   "execution_count": 3,
   "metadata": {
    "collapsed": true
   },
   "outputs": [
    {
     "ename": "IndentationError",
     "evalue": "unexpected indent (<ipython-input-3-29baaa7f2385>, line 2)",
     "output_type": "error",
     "traceback": [
      "\u001b[1;36m  File \u001b[1;32m\"<ipython-input-3-29baaa7f2385>\"\u001b[1;36m, line \u001b[1;32m2\u001b[0m\n\u001b[1;33m    bacon = 22\u001b[0m\n\u001b[1;37m    ^\u001b[0m\n\u001b[1;31mIndentationError\u001b[0m\u001b[1;31m:\u001b[0m unexpected indent\n"
     ]
    }
   ],
   "source": [
    "ans : 6 \n",
    "    after the running this code bacon contain 22 "
   ]
  },
  {
   "cell_type": "code",
   "execution_count": null,
   "metadata": {},
   "outputs": [],
   "source": [
    "ans : 7 \n",
    "   the answer of  \"spam\"+\"spamspam\" is 'spamspamspam'\n",
    "and \"spam\"*3 is also 'spamspamspam'"
   ]
  },
  {
   "cell_type": "code",
   "execution_count": 5,
   "metadata": {},
   "outputs": [
    {
     "data": {
      "text/plain": [
       "'spamspamspam'"
      ]
     },
     "execution_count": 5,
     "metadata": {},
     "output_type": "execute_result"
    }
   ],
   "source": [
    "ans : 8\n",
    "    Always variable name not allowed any integer values so 100 is not valid variable \n",
    "    eggs is true variable name because eggs supports character \n",
    "    we can also named of variable like eggs1 , eggs100\n",
    "    but we can't use integer values first like 1eggs, 100eggs"
   ]
  },
  {
   "cell_type": "code",
   "execution_count": null,
   "metadata": {},
   "outputs": [],
   "source": [
    "ans : 9\n",
    "    int() for integer number\n",
    "    float() for floating number\n",
    "    str() for string value"
   ]
  },
  {
   "cell_type": "code",
   "execution_count": 8,
   "metadata": {
    "collapsed": true
   },
   "outputs": [
    {
     "ename": "IndentationError",
     "evalue": "unexpected indent (<ipython-input-8-e480b997be11>, line 2)",
     "output_type": "error",
     "traceback": [
      "\u001b[1;36m  File \u001b[1;32m\"<ipython-input-8-e480b997be11>\"\u001b[1;36m, line \u001b[1;32m2\u001b[0m\n\u001b[1;33m    'I have eaten' + 99 +  'burritos' when we run this we got type errors\u001b[0m\n\u001b[1;37m    ^\u001b[0m\n\u001b[1;31mIndentationError\u001b[0m\u001b[1;31m:\u001b[0m unexpected indent\n"
     ]
    }
   ],
   "source": [
    "ans : 10\n",
    "    'I have eaten' + 99 +  'burritos' when we run this we got type errors \n",
    "    i would like to change the integer number in to string by so we can't get any error\n",
    "    we can use str(99) or \" 99 \" so we can't get error"
   ]
  }
 ],
 "metadata": {
  "celltoolbar": "Raw Cell Format",
  "kernelspec": {
   "display_name": "Python 3",
   "language": "python",
   "name": "python3"
  },
  "language_info": {
   "codemirror_mode": {
    "name": "ipython",
    "version": 3
   },
   "file_extension": ".py",
   "mimetype": "text/x-python",
   "name": "python",
   "nbconvert_exporter": "python",
   "pygments_lexer": "ipython3",
   "version": "3.8.5"
  }
 },
 "nbformat": 4,
 "nbformat_minor": 4
}
