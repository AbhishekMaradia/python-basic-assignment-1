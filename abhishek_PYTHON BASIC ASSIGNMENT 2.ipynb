{
 "cells": [
  {
   "cell_type": "code",
   "execution_count": null,
   "metadata": {},
   "outputs": [],
   "source": [
    "                                \"PYTHON BASIC ASSIGNMENT 2:\""
   ]
  },
  {
   "cell_type": "code",
   "execution_count": null,
   "metadata": {},
   "outputs": [],
   "source": [
    "ANS:1\n",
    "    The Boolean datatypes two values are : True; False\n",
    "    I would write boolean value with first later capital\n",
    "    "
   ]
  },
  {
   "cell_type": "code",
   "execution_count": null,
   "metadata": {},
   "outputs": [],
   "source": [
    "Ans:2 \n",
    "    Three Boolean operators are here:\n",
    "        1.AND\n",
    "        2.OR\n",
    "        3.NOT"
   ]
  },
  {
   "cell_type": "code",
   "execution_count": 7,
   "metadata": {
    "collapsed": true
   },
   "outputs": [
    {
     "ename": "IndentationError",
     "evalue": "unexpected indent (<ipython-input-7-77c1870a4187>, line 2)",
     "output_type": "error",
     "traceback": [
      "\u001b[1;36m  File \u001b[1;32m\"<ipython-input-7-77c1870a4187>\"\u001b[1;36m, line \u001b[1;32m2\u001b[0m\n\u001b[1;33m    \"==\" it indicates that if values\u001b[0m\n\u001b[1;37m    ^\u001b[0m\n\u001b[1;31mIndentationError\u001b[0m\u001b[1;31m:\u001b[0m unexpected indent\n"
     ]
    }
   ],
   "source": [
    "ANS:3\n",
    "    below all values give output in boolean value True or False\n",
    "    \"==\" : Return true only if the two operands are equal  \n",
    "    \"!=\" : Return true or false only if values are not equal its depend on condition \n",
    "    \"===\": returns true only if both values and data types are the same for the two variables\n",
    "    \"!==\": returns true only if both values and data types are notthe same for the two variables\n",
    "    and there are other example of boolean operators:\n",
    "    \"! 1 \"\n",
    "    \"0 && 1\"\n",
    "    \"1 || 0\"\n",
    "    \"! 1 || 1\"\n",
    "    \"!(1 || 1)\"\n",
    "    \"!(1 && 1)\"\n",
    "    \"! 1 && 1\"\n",
    "    \"! 0 && 0\"\n",
    "    \"! (0 && 0)\"\n",
    "    \"!1 || !1\""
   ]
  },
  {
   "cell_type": "code",
   "execution_count": 8,
   "metadata": {
    "collapsed": true
   },
   "outputs": [
    {
     "ename": "IndentationError",
     "evalue": "unexpected indent (<ipython-input-8-d9d18e3b8def>, line 2)",
     "output_type": "error",
     "traceback": [
      "\u001b[1;36m  File \u001b[1;32m\"<ipython-input-8-d9d18e3b8def>\"\u001b[1;36m, line \u001b[1;32m2\u001b[0m\n\u001b[1;33m    (5 & 4) and (3 == 5)                 --->\u001b[0m\n\u001b[1;37m    ^\u001b[0m\n\u001b[1;31mIndentationError\u001b[0m\u001b[1;31m:\u001b[0m unexpected indent\n"
     ]
    }
   ],
   "source": [
    "ANS:4                                         Output\n",
    "    (5 & 4) and (3 == 5)                 --->  False\n",
    "    not (5 & 4)                          --->  False\n",
    "    (5 & 4) or (3 == 5)                  --->  4\n",
    "    not ((5 & 4) or (3 == 5))            --->  False\n",
    "    (True and True) and (True == False)  --->  False\n",
    "    (not False) or (not True)            --->  True"
   ]
  },
  {
   "cell_type": "code",
   "execution_count": null,
   "metadata": {},
   "outputs": [],
   "source": [
    "ANS:5\n",
    " Assignment Operators.\n",
    " Arithmetic Operators.\n",
    " Comparison Operators.\n",
    " Bitwise Operators.\n",
    " Logical Operators.\n",
    " Precedence Operators."
   ]
  },
  {
   "cell_type": "code",
   "execution_count": null,
   "metadata": {},
   "outputs": [],
   "source": [
    "ANS:6\n",
    "    assignment operator:\n",
    "        \n",
    "    assignment is used for assign value in variable\n",
    "     it is not give any value\n",
    "        example : a=1 it is not return value but it store the value\n",
    "    equal to:\n",
    "    it is used for compare two values\n",
    "    it gives output in two values like 1 or 0 (true or false)\n",
    "        example : a==1 it gives output like 1 or 0 \n",
    "    it is relational or comarison operator."
   ]
  },
  {
   "cell_type": "code",
   "execution_count": null,
   "metadata": {},
   "outputs": [],
   "source": [
    "ANS:7\n",
    "    if condition: i would use if condition when we have more then one condition   \n",
    "    it offers one line code to evaluate the first expression if the condition is true, otherwise it evaluates the second expression. It first evaluates the condition; if it returns True , expression1 will be evaluated to give the result, otherwise expression2 ."
   ]
  },
  {
   "cell_type": "code",
   "execution_count": null,
   "metadata": {},
   "outputs": [],
   "source": [
    "ANS:8 \n",
    "    \n",
    "    block 1:\n",
    "        spam=0 so spam isn't equal to 10 so it throw value out of block and directly print 'spam'\n",
    "    block 2: \n",
    "        spam value is greater than 5 so it throw value out of  block\n",
    "    block 3:\n",
    "        it can't print because value is out of the block"
   ]
  },
  {
   "cell_type": "code",
   "execution_count": 58,
   "metadata": {},
   "outputs": [
    {
     "name": "stdout",
     "output_type": "stream",
     "text": [
      "Enter value of spam: 2\n",
      "Howdy\n"
     ]
    }
   ],
   "source": [
    "ANS:9\n",
    "    \n",
    "spam = int(input(\"Enter value of spam: \"))\n",
    "if spam == 1:\n",
    "    print('Hello')\n",
    "elif spam == 2:\n",
    "    print('Howdy')\n",
    "else:\n",
    "    print('Salutations!!')"
   ]
  },
  {
   "cell_type": "code",
   "execution_count": 56,
   "metadata": {
    "collapsed": true
   },
   "outputs": [
    {
     "ename": "IndentationError",
     "evalue": "unexpected indent (<ipython-input-56-86fadc4a911e>, line 2)",
     "output_type": "error",
     "traceback": [
      "\u001b[1;36m  File \u001b[1;32m\"<ipython-input-56-86fadc4a911e>\"\u001b[1;36m, line \u001b[1;32m2\u001b[0m\n\u001b[1;33m    If My programme is stuck in an endless loop, I would prss CTRL+C\u001b[0m\n\u001b[1;37m    ^\u001b[0m\n\u001b[1;31mIndentationError\u001b[0m\u001b[1;31m:\u001b[0m unexpected indent\n"
     ]
    }
   ],
   "source": [
    "ANS:10\n",
    "    If My programme is stuck in an endless loop, I would prss CTRL+C"
   ]
  },
  {
   "cell_type": "code",
   "execution_count": null,
   "metadata": {},
   "outputs": [],
   "source": [
    "ANS:11\n",
    "    The break statement terminates the whole iteration of a loop \n",
    "    whereas continue skips the current iteration. \n",
    "    The break statement terminates the whole loop early\n",
    "    whereas the continue brings the next iteration early.\n",
    "    example:-\n",
    "    break:- 1\n",
    "            2\n",
    "            3\n",
    "    continue:- 1\n",
    "               2\n",
    "               3 \n",
    "               5"
   ]
  },
  {
   "cell_type": "code",
   "execution_count": 76,
   "metadata": {
    "collapsed": true
   },
   "outputs": [
    {
     "name": "stdout",
     "output_type": "stream",
     "text": [
      "0\n",
      "1\n",
      "2\n",
      "3\n",
      "4\n",
      "5\n",
      "6\n",
      "7\n",
      "8\n",
      "9\n"
     ]
    }
   ],
   "source": [
    "ANS:12\n",
    "    \n",
    "    In for loop we get same out put here is reason\n",
    "range(10) takes one argument as stop ; there is not defined  range so it takes automatically start=0 & step=1\n",
    "range(1, 10) takes two arguments start and stop it print 1 2 3 4 5 6 7 8 9\n",
    "range(1, 10, 1) takes three arguments start, stop, step  print 1 2 3 4 5 6 7 8 9"
   ]
  },
  {
   "cell_type": "code",
   "execution_count": 95,
   "metadata": {},
   "outputs": [
    {
     "name": "stdout",
     "output_type": "stream",
     "text": [
      "1 2 3 4 5 6 7 8 9 10 "
     ]
    }
   ],
   "source": [
    "ANS:13\n",
    "    \n",
    "using for loop:\n",
    "    \n",
    "for i in range(1,11):\n",
    " print(i,end=' ')\n",
    "\n",
    "using while loop:\n",
    "    \n",
    "i=0\n",
    "while i<10:\n",
    "    i+=1\n",
    "    print(i,end=' ')"
   ]
  },
  {
   "cell_type": "code",
   "execution_count": null,
   "metadata": {},
   "outputs": [],
   "source": [
    "ANS:14\n",
    "    \n",
    "    it could be called by spam.bacon()"
   ]
  }
 ],
 "metadata": {
  "kernelspec": {
   "display_name": "Python 3",
   "language": "python",
   "name": "python3"
  },
  "language_info": {
   "codemirror_mode": {
    "name": "ipython",
    "version": 3
   },
   "file_extension": ".py",
   "mimetype": "text/x-python",
   "name": "python",
   "nbconvert_exporter": "python",
   "pygments_lexer": "ipython3",
   "version": "3.8.5"
  }
 },
 "nbformat": 4,
 "nbformat_minor": 4
}
